{
  "nbformat": 4,
  "nbformat_minor": 0,
  "metadata": {
    "colab": {
      "name": "CeADAR_task1.ipynb",
      "provenance": [],
      "collapsed_sections": [],
      "authorship_tag": "ABX9TyN/nP/ModPE60ZO3W5IsFt4",
      "include_colab_link": true
    },
    "kernelspec": {
      "name": "python3",
      "display_name": "Python 3"
    },
    "accelerator": "GPU"
  },
  "cells": [
    {
      "cell_type": "markdown",
      "metadata": {
        "id": "view-in-github",
        "colab_type": "text"
      },
      "source": [
        "<a href=\"https://colab.research.google.com/github/aa-amory/ICDAR-2019-SROIE/blob/master/CeADAR_task1.ipynb\" target=\"_parent\"><img src=\"https://colab.research.google.com/assets/colab-badge.svg\" alt=\"Open In Colab\"/></a>"
      ]
    },
    {
      "cell_type": "code",
      "metadata": {
        "colab": {
          "base_uri": "https://localhost:8080/"
        },
        "id": "0NTPoq70pLYb",
        "outputId": "13a1bd70-ac4a-4c85-c67e-bc9d796567ec"
      },
      "source": [
        "import os, sys\n",
        "from google.colab import drive\n",
        "drive.mount('/content/drive')\n",
        "nb_path = '/content/notebooks'\n",
        "os.symlink('/content/drive/My Drive/Colab Notebooks', nb_path)\n",
        "sys.path.insert(0,nb_path)"
      ],
      "execution_count": null,
      "outputs": [
        {
          "output_type": "stream",
          "text": [
            "Mounted at /content/drive\n"
          ],
          "name": "stdout"
        }
      ]
    },
    {
      "cell_type": "code",
      "metadata": {
        "colab": {
          "base_uri": "https://localhost:8080/"
        },
        "id": "31ZF2wxbpa4y",
        "outputId": "e72b3026-d003-4fe4-a201-8f474c4be06d"
      },
      "source": [
        "%tensorflow_version 1.x"
      ],
      "execution_count": null,
      "outputs": [
        {
          "output_type": "stream",
          "text": [
            "TensorFlow 1.x selected.\n"
          ],
          "name": "stdout"
        }
      ]
    },
    {
      "cell_type": "code",
      "metadata": {
        "colab": {
          "base_uri": "https://localhost:8080/"
        },
        "id": "Sizxz2k8p9cL",
        "outputId": "3cfa0bc5-cf7f-4f03-edd7-260112388977"
      },
      "source": [
        "import tensorflow\n",
        "print(tensorflow.__version__)"
      ],
      "execution_count": null,
      "outputs": [
        {
          "output_type": "stream",
          "text": [
            "1.15.2\n"
          ],
          "name": "stdout"
        }
      ]
    },
    {
      "cell_type": "code",
      "metadata": {
        "id": "ySQ_Uw5_YW5g"
      },
      "source": [
        "%cd /content/drive/MyDrive/Colab\\ Notebooks/ICDAR-2019-SROIE/ICDAR-2019-SROIE/task1/CTPN Method/utils/bbox\n",
        "!chmod +x make.sh\n",
        "!./make.sh"
      ],
      "execution_count": null,
      "outputs": []
    },
    {
      "cell_type": "code",
      "metadata": {
        "id": "TpMxuEa_ZXL4"
      },
      "source": [
        "%cd /content/drive/MyDrive/Colab\\ Notebooks/ICDAR-2019-SROIE/ICDAR-2019-SROIE/task1/CTPN Method/data/dataset\n",
        "!python prepare_dataset.py"
      ],
      "execution_count": null,
      "outputs": []
    },
    {
      "cell_type": "code",
      "metadata": {
        "id": "1cVEPSjWZxbp"
      },
      "source": [
        "%cd /content/drive/MyDrive/Colab\\ Notebooks/ICDAR-2019-SROIE/ICDAR-2019-SROIE/task1/CTPN Method/\n",
        "!python ./main/train.py\n"
      ],
      "execution_count": null,
      "outputs": []
    },
    {
      "cell_type": "code",
      "metadata": {
        "id": "5hS-v33xcOd4"
      },
      "source": [
        "%cd /content/drive/MyDrive/Colab\\ Notebooks/ICDAR-2019-SROIE/ICDAR-2019-SROIE/task1/CTPN Method/\n",
        "!python ./main/demo.py"
      ],
      "execution_count": null,
      "outputs": []
    }
  ]
}